{
 "cells": [
  {
   "cell_type": "code",
   "execution_count": 1,
   "metadata": {
    "collapsed": true
   },
   "outputs": [],
   "source": [
    "# Mark as true if you have the courseRecordDict.json file in the directory.\n",
    "# If not, mark False, will generate for future ease (fewer api calls)\n",
    "courseRecordDictExists = False\n",
    "\n",
    "# Mark as true if you have the userInfoDict.json file in the directory.\n",
    "# If not, mark False, will generate for future ease (fewer api calls)\n",
    "userInfoDictExists = False\n",
    "\n",
    "# Need to update this every time we run (new batch). \n",
    "# Gotta do this by trial error, no other way\n",
    "maxUserId = 18000"
   ]
  },
  {
   "cell_type": "code",
   "execution_count": 2,
   "metadata": {
    "collapsed": false
   },
   "outputs": [],
   "source": [
    "import json\n",
    "from bpApi import *"
   ]
  },
  {
   "cell_type": "markdown",
   "metadata": {},
   "source": [
    "# Collect data from api"
   ]
  },
  {
   "cell_type": "code",
   "execution_count": 3,
   "metadata": {
    "collapsed": true
   },
   "outputs": [],
   "source": [
    "if userInfoDictExists:\n",
    "    with open('userInfoDict.json', 'r') as fp:\n",
    "        userInfoDict = json.load(fp)\n",
    "else:\n",
    "    userInfoDict = {}"
   ]
  },
  {
   "cell_type": "code",
   "execution_count": 33,
   "metadata": {
    "collapsed": false
   },
   "outputs": [],
   "source": [
    "if userInfoDictExists:\n",
    "    maxTried = max(map(lambda x : int(x), userInfoDict.keys()))\n",
    "else:\n",
    "    maxTried = 0"
   ]
  },
  {
   "cell_type": "code",
   "execution_count": 35,
   "metadata": {
    "collapsed": false
   },
   "outputs": [],
   "source": [
    "for userID in range(0, maxTried):\n",
    "    \n",
    "    if userID in userInfoDict and 'iiitd.ac.in' in userInfoDict[userID][1]:\n",
    "        response = getUserInfoAndCourses(userID)\n",
    "    else:\n",
    "        response = False\n",
    "\n",
    "    if response == False:\n",
    "        pass\n",
    "    else:\n",
    "        print userID, response\n",
    "        userInfoDict[userID] = response\n",
    "\n",
    "    if userID % 100 == 0:\n",
    "        print 'Writing to file'\n",
    "        with open('userInfoDict.json', 'w') as fp:\n",
    "            json.dump(userInfoDict, fp)\n",
    "            \n",
    "with open('userInfoDict.json', 'w') as fp:\n",
    "    json.dump(userInfoDict, fp)"
   ]
  },
  {
   "cell_type": "code",
   "execution_count": 26,
   "metadata": {
    "collapsed": false,
    "scrolled": true
   },
   "outputs": [],
   "source": [
    "for userID in range(maxTried, maxUserId):\n",
    "    \n",
    "    response = getUserInfoAndCourses(userID)\n",
    "    \n",
    "    if response == False:\n",
    "        pass\n",
    "    else:\n",
    "        print userID, response\n",
    "        userInfoDict[userID] = response\n",
    "\n",
    "    if userID % 1000 == 0:\n",
    "        print 'Writing to file'\n",
    "        with open('userInfoDict.json', 'w') as fp:\n",
    "            json.dump(userInfoDict, fp)\n",
    "            \n",
    "with open('userInfoDict.json', 'w') as fp:\n",
    "    json.dump(userInfoDict, fp)"
   ]
  },
  {
   "cell_type": "markdown",
   "metadata": {},
   "source": [
    "# Load data"
   ]
  },
  {
   "cell_type": "code",
   "execution_count": 36,
   "metadata": {
    "collapsed": false
   },
   "outputs": [
    {
     "name": "stdout",
     "output_type": "stream",
     "text": [
      "17883 12474\n"
     ]
    }
   ],
   "source": [
    "with open('userInfoDict.json', 'r') as fp:\n",
    "    userInfoDict = json.load(fp)\n",
    "print max(map(lambda x : int(x), userInfoDict.keys())), len(userInfoDict)"
   ]
  },
  {
   "cell_type": "code",
   "execution_count": 37,
   "metadata": {
    "collapsed": false
   },
   "outputs": [
    {
     "name": "stdout",
     "output_type": "stream",
     "text": [
      "IIITD Users : 2646\n",
      "Total Users : 12474\n"
     ]
    }
   ],
   "source": [
    "iiitdCount = 0\n",
    "for userKey in userInfoDict.keys():\n",
    "    if 'iiitd.ac.in' in userInfoDict[userKey][1]:\n",
    "        iiitdCount += 1\n",
    "print \"IIITD Users :\", iiitdCount\n",
    "print \"Total Users :\", len(userInfoDict)"
   ]
  },
  {
   "cell_type": "markdown",
   "metadata": {},
   "source": [
    "# Collect records for courses taken by IIITD students"
   ]
  },
  {
   "cell_type": "code",
   "execution_count": 38,
   "metadata": {
    "collapsed": true
   },
   "outputs": [],
   "source": [
    "if courseRecordDictExists:\n",
    "    with open('courseRecordDict.json', 'r') as fp:\n",
    "        courseRecordDict = json.load(fp)\n",
    "else:\n",
    "    courseRecordDict = {}"
   ]
  },
  {
   "cell_type": "code",
   "execution_count": 85,
   "metadata": {
    "collapsed": false,
    "scrolled": true
   },
   "outputs": [],
   "source": [
    "for userKey in userInfoDict.keys():\n",
    "    userEmail  = userInfoDict[userKey][1]\n",
    "    allCourses = userInfoDict[userKey][2]\n",
    "    \n",
    "    if 'iiitd.ac.in' in userEmail:\n",
    "        # Make queries for courses registered by IIITD students only\n",
    "        print userEmail, allCourses\n",
    "\n",
    "        for courseID in allCourses:\n",
    "\n",
    "            if courseID not in courseRecordDict:\n",
    "                # Check if fetched before\n",
    "                print \"Making Query for course ID\", courseID, '\\n'\n",
    "                courseInfo = getCourseInfo(courseID)\n",
    "                courseRecordDict[str(courseID)] = (courseInfo['code'], courseInfo['name'])\n",
    "                # print \"Added course ID\", courseID, courseRecordDict[str(courseID)]\n",
    "            else:\n",
    "                # print \"Found course ID\", courseID, courseRecordDict[str(courseID)]\n",
    "                pass"
   ]
  },
  {
   "cell_type": "code",
   "execution_count": 45,
   "metadata": {
    "collapsed": true
   },
   "outputs": [],
   "source": [
    "with open('courseRecordDict.json', 'w') as fp:\n",
    "    json.dump(courseRecordDict, fp)"
   ]
  },
  {
   "cell_type": "code",
   "execution_count": 46,
   "metadata": {
    "collapsed": true
   },
   "outputs": [],
   "source": [
    "courseRecords = {}\n",
    "\n",
    "for _id in courseRecordDict.keys():\n",
    "    desc = list(courseRecordDict[_id])\n",
    "    courseRecords[_id] = {}\n",
    "    courseRecords[_id]['code'] = desc[0]\n",
    "    courseRecords[_id]['name'] = desc[1]\n",
    "    courseRecords[_id]['students'] = []"
   ]
  },
  {
   "cell_type": "code",
   "execution_count": 47,
   "metadata": {
    "collapsed": false
   },
   "outputs": [
    {
     "name": "stdout",
     "output_type": "stream",
     "text": [
      "617 417 372\n"
     ]
    }
   ],
   "source": [
    "allCourseCodes = map(lambda x : x['code'], courseRecords.values())\n",
    "allCourseNames = map(lambda x : x['name'], courseRecords.values())\n",
    "\n",
    "print len(allCourseCodes), len(set(allCourseCodes)), len(set(allCourseNames))"
   ]
  },
  {
   "cell_type": "markdown",
   "metadata": {},
   "source": [
    "# Map students to courses"
   ]
  },
  {
   "cell_type": "code",
   "execution_count": 48,
   "metadata": {
    "collapsed": false
   },
   "outputs": [],
   "source": [
    "for userKey in userInfoDict.keys():\n",
    "    if 'iiitd.ac.in' in userInfoDict[userKey][1]:\n",
    "        allCourses = userInfoDict[userKey][2]\n",
    "        for course in allCourses:\n",
    "            # print courseRecordDict[course], userInfoDict[userKey]\n",
    "            courseRecords[course]['students'].append(userInfoDict[userKey])"
   ]
  },
  {
   "cell_type": "code",
   "execution_count": 84,
   "metadata": {
    "collapsed": false,
    "scrolled": true
   },
   "outputs": [],
   "source": [
    "for _id in courseRecords.keys():\n",
    "    print courseRecords[_id]['code'], courseRecords[_id]['name'], len(courseRecords[_id]['students'])"
   ]
  },
  {
   "cell_type": "code",
   "execution_count": 50,
   "metadata": {
    "collapsed": true
   },
   "outputs": [],
   "source": [
    "with open('courseRecords.json', 'w') as fp:\n",
    "    json.dump(courseRecords, fp)"
   ]
  },
  {
   "cell_type": "markdown",
   "metadata": {
    "collapsed": true
   },
   "source": [
    "# Merge courses based on names. In case course id was changed over time"
   ]
  },
  {
   "cell_type": "code",
   "execution_count": 71,
   "metadata": {
    "collapsed": true
   },
   "outputs": [],
   "source": [
    "finalCourseList = {}\n",
    "cleanFinalCourseList = {}"
   ]
  },
  {
   "cell_type": "code",
   "execution_count": 72,
   "metadata": {
    "collapsed": true
   },
   "outputs": [],
   "source": [
    "for _id in courseRecords.keys():\n",
    "    name = courseRecords[_id]['name']\n",
    "    code = courseRecords[_id]['code']\n",
    "    \n",
    "    if name not in finalCourseList:\n",
    "        finalCourseList[name] = {'codes' : [],\n",
    "                                 'students' : []}\n",
    "    \n",
    "    finalCourseList[name]['codes'].append(code)\n",
    "    finalCourseList[name]['students'] += courseRecords[_id]['students']"
   ]
  },
  {
   "cell_type": "code",
   "execution_count": 73,
   "metadata": {
    "collapsed": false
   },
   "outputs": [],
   "source": [
    "for courseName in finalCourseList.keys():\n",
    "    for i in range(len(finalCourseList[courseName]['students'])):\n",
    "        finalCourseList[courseName]['students'][i] = finalCourseList[courseName]['students'][i][:-1]"
   ]
  },
  {
   "cell_type": "code",
   "execution_count": 74,
   "metadata": {
    "collapsed": false
   },
   "outputs": [],
   "source": [
    "for key in finalCourseList:\n",
    "    \n",
    "    uniqueStudents = [list(x) for x in set(tuple(x) for x in finalCourseList[key]['students'])]\n",
    "    finalCourseList[key]['students'] = uniqueStudents\n"
   ]
  },
  {
   "cell_type": "code",
   "execution_count": 75,
   "metadata": {
    "collapsed": true
   },
   "outputs": [],
   "source": [
    "with open('finalCourseList.json', 'w') as fp:\n",
    "    json.dump(finalCourseList, fp)"
   ]
  },
  {
   "cell_type": "code",
   "execution_count": 81,
   "metadata": {
    "collapsed": false
   },
   "outputs": [
    {
     "data": {
      "text/plain": [
       "372"
      ]
     },
     "execution_count": 81,
     "metadata": {},
     "output_type": "execute_result"
    }
   ],
   "source": [
    "len(finalCourseList)"
   ]
  },
  {
   "cell_type": "code",
   "execution_count": 83,
   "metadata": {
    "collapsed": false,
    "scrolled": true
   },
   "outputs": [],
   "source": [
    "# finalCourseList[finalCourseList.keys()[0]]"
   ]
  },
  {
   "cell_type": "code",
   "execution_count": null,
   "metadata": {
    "collapsed": true
   },
   "outputs": [],
   "source": []
  }
 ],
 "metadata": {
  "kernelspec": {
   "display_name": "Python 2",
   "language": "python",
   "name": "python2"
  },
  "language_info": {
   "codemirror_mode": {
    "name": "ipython",
    "version": 2
   },
   "file_extension": ".py",
   "mimetype": "text/x-python",
   "name": "python",
   "nbconvert_exporter": "python",
   "pygments_lexer": "ipython2",
   "version": "2.7.11"
  }
 },
 "nbformat": 4,
 "nbformat_minor": 2
}
